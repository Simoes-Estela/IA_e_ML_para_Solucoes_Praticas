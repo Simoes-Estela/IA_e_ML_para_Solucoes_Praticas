{
 "cells": [
  {
   "cell_type": "markdown",
   "metadata": {
    "id": "bPISwE0Is_Pu"
   },
   "source": [
    "# **Semanas 03: Fundamentos do Python**\n",
    "## **Atividade Semanal**\n",
    "\n",
    "> Esta é atividade semanal sugerida. Você deverá preenchê-la e enviá-la dentro do prazo (até o fechamento da semana corrente)."
   ]
  },
  {
   "cell_type": "markdown",
   "metadata": {
    "id": "RAg7REeatl9X"
   },
   "source": [
    "###Questão 1\n",
    "\n",
    "Crie um objeto chamado `nome` e atribua seu nome à ele. Imprima na tela o resultado."
   ]
  },
  {
   "cell_type": "code",
   "execution_count": null,
   "metadata": {
    "id": "izFFVN2Nst-F"
   },
   "outputs": [],
   "source": [
    "# Questao 1\n",
    "nome=str('Estela')\n",
    "print(nome)"
   ]
  },
  {
   "cell_type": "markdown",
   "metadata": {
    "id": "3xNawcemugMY"
   },
   "source": [
    "###Questão 2\n",
    "\n",
    "Imprima na tela qual o tipo (ou classe) do objeto criado no exercício anterior."
   ]
  },
  {
   "cell_type": "code",
   "execution_count": null,
   "metadata": {
    "id": "yVxFX6kPuu6Z"
   },
   "outputs": [
    {
     "ename": "",
     "evalue": "",
     "output_type": "error",
     "traceback": [
      "\u001b[1;31mRunning cells with 'Python 3.12.6' requires the ipykernel package.\n",
      "\u001b[1;31mRun the following command to install 'ipykernel' into the Python environment. \n",
      "\u001b[1;31mCommand: 'c:/Users/estel/AppData/Local/Programs/Python/Python312/python.exe -m pip install ipykernel -U --user --force-reinstall'"
     ]
    }
   ],
   "source": [
    "# Questao 2\n",
    "nome=str('Estela')\n",
    "print(type(nome))"
   ]
  },
  {
   "cell_type": "markdown",
   "metadata": {
    "id": "sbXN8AoMuxvx"
   },
   "source": [
    "###Questão 3\n",
    "\n",
    "Abaixo você encontra uma funcao que calcula o triplo de um valor. Embora, completamente sem documentação. Complete a documentação utilizando comentário iniciados com $\\#$."
   ]
  },
  {
   "cell_type": "code",
   "execution_count": null,
   "metadata": {
    "collapsed": true,
    "id": "YxUJOpR2uyFh"
   },
   "outputs": [],
   "source": [
    "# Questao 3\n",
    "\n",
    "#############################\n",
    "# Documente a funcao abaixo:\n",
    "#############################\n",
    "\n",
    "# Funcao que calcula o triplo de um numero\n",
    "def triplo(numero):\n",
    "    \"\"\"\n",
    "    Funcao que calcula o triplo de um numero\n",
    "\n",
    "    Parametros\n",
    "    ----------\n",
    "    numero : float\n",
    "             Valor a ser triplicado\n",
    "\n",
    "    Returno\n",
    "    -------\n",
    "    resultado : float\n",
    "                Valor triplicado\n",
    "    \"\"\"\n",
    "    # Multiplica o valor por 3(triplo) e guarda em resultado\n",
    "    resultado = 3 * numero\n",
    "\n",
    "    # retorna o resultado da operação acuima\n",
    "    return resultado\n",
    "\n",
    "# Exemplo\n",
    "triplo_do_numero = triplo(5)\n",
    "\n",
    "print('Triplo:', triplo_do_numero)"
   ]
  },
  {
   "cell_type": "code",
   "execution_count": null,
   "metadata": {
    "id": "U1zV3c2i6qe_"
   },
   "outputs": [],
   "source": [
    "# Note que a documentacao entre aspas triplas dentro da funcao permite o seguinte:\n",
    "?triplo\n",
    "\n",
    "# Essa documentacao especifica se chama 'docstring'\n",
    "# Ela nao e sempre necessaria... Mas e legal entender como funciona e sua utilidade"
   ]
  },
  {
   "cell_type": "markdown",
   "metadata": {
    "id": "8LNVxN-DvqpU"
   },
   "source": [
    "###Questão 4\n",
    "\n",
    "Crie uma função que calcula o quadrado de um número.\n",
    "\n",
    "> Ex.: O quadrado de 3 é 3 * 3 = 9 (basta multiplicar o número por ele mesmo)"
   ]
  },
  {
   "cell_type": "code",
   "execution_count": null,
   "metadata": {
    "id": "lXTKOd3pvrmT"
   },
   "outputs": [],
   "source": [
    "# Questao 4\n",
    "def quadrado(numero):\n",
    "    return numero**2\n",
    "    \n",
    "valor=int(input('Digite um valor:'))\n",
    "quadrado_do_numero= quadrado(valor)\n",
    "print('Quadrado: {}'.format(quadrado_do_numero))"
   ]
  }
 ],
 "metadata": {
  "colab": {
   "authorship_tag": "ABX9TyObhuBhF/wtvaKJ88EF8Acf",
   "provenance": [],
   "toc_visible": true
  },
  "kernelspec": {
   "display_name": "Python 3",
   "name": "python3"
  },
  "language_info": {
   "name": "python",
   "version": "3.12.6"
  }
 },
 "nbformat": 4,
 "nbformat_minor": 0
}
