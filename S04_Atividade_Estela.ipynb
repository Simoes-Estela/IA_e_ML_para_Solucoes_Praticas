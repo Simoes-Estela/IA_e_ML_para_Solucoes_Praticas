{
  "nbformat": 4,
  "nbformat_minor": 0,
  "metadata": {
    "colab": {
      "provenance": []
    },
    "kernelspec": {
      "name": "python3",
      "display_name": "Python 3"
    },
    "language_info": {
      "name": "python"
    }
  },
  "cells": [
    {
      "cell_type": "markdown",
      "source": [
        "# **Semanas 04: Fundamentos do Python**\n",
        "## **Atividade Semanal**\n",
        "\n",
        "> Esta é atividade semanal sugerida. Você deverá preenchê-la e enviá-la dentro do prazo (até o fechamento da semana corrente)."
      ],
      "metadata": {
        "id": "bPISwE0Is_Pu"
      }
    },
    {
      "cell_type": "markdown",
      "source": [
        "###Questão 1\n",
        "\n",
        "Crie uma função que contenha uma estrutura condicional que imprima na tela se um número é positivo ou negativo. Além disso, imprima um aviso de que não é possível testar o valor `0`."
      ],
      "metadata": {
        "id": "RAg7REeatl9X"
      }
    },
    {
      "cell_type": "code",
      "execution_count": 2,
      "metadata": {
        "id": "izFFVN2Nst-F",
        "colab": {
          "base_uri": "https://localhost:8080/"
        },
        "outputId": "3ae0714f-7196-4b3f-9a27-38fccab37aa5"
      },
      "outputs": [
        {
          "output_type": "stream",
          "name": "stdout",
          "text": [
            "Digite um valor-1\n",
            "O número -1 é NEGATIVO\n"
          ]
        }
      ],
      "source": [
        "# Questao 1\n",
        "valor=int(input(\"Digite um valor\"))\n",
        "if valor>=0:print(\"O número {} é POSITIVO\".format(valor))\n",
        "else: print(\"O número {} é NEGATIVO\".format(valor))"
      ]
    },
    {
      "cell_type": "markdown",
      "source": [
        "###Questão 2\n",
        "\n",
        "Crie uma lista `pessoas` com o nome dos seus familiares preferidos. Imprima o resultado na tela."
      ],
      "metadata": {
        "id": "3xNawcemugMY"
      }
    },
    {
      "cell_type": "code",
      "source": [
        "# Questao 2\n",
        "pessoas=['Estela','João','Ersimar','Mateus','Ediana','Rita','Iara']\n",
        "for x in range(7):\n",
        "  print(pessoas[x])"
      ],
      "metadata": {
        "id": "yVxFX6kPuu6Z",
        "colab": {
          "base_uri": "https://localhost:8080/"
        },
        "outputId": "83b19562-8221-44a4-8a48-8c42b54567e4"
      },
      "execution_count": 9,
      "outputs": [
        {
          "output_type": "stream",
          "name": "stdout",
          "text": [
            "Estela\n",
            "João\n",
            "Ersimar\n",
            "Mateus\n",
            "Ediana\n",
            "Rita\n",
            "Iara\n"
          ]
        }
      ]
    },
    {
      "cell_type": "markdown",
      "source": [
        "###Questão 3\n",
        "\n",
        "Utilizando o método adequado, adicione à lista `pessoas` o nome dos seus amigos preferidos. Além disso, coloque todos os caracteres dessa lista com letra maiúscula. Imprima o resultado na tela."
      ],
      "metadata": {
        "id": "sbXN8AoMuxvx"
      }
    },
    {
      "cell_type": "code",
      "source": [
        "# Questao 3\n",
        "pessoas=['Estela','João','Ersimar','Mateus','Ediana','Rita','Iara'] #lista pessoas\n",
        "pessoas.append(\"Ana Clara\")\n",
        "pessoas.append(\"Daniel\")\n",
        "pessoas.append(\"Emanuelle\")\n",
        "\n",
        "num_pessoas=len(pessoas)\n",
        "\n",
        "for x in range(num_pessoas):\n",
        "  pessoas[x]=pessoas[x].upper()\n",
        "\n",
        "for x in range (num_pessoas):\n",
        "  print(pessoas[x])"
      ],
      "metadata": {
        "id": "YxUJOpR2uyFh",
        "colab": {
          "base_uri": "https://localhost:8080/"
        },
        "outputId": "26eee5dd-c6c2-43ec-e634-34e15091bb81"
      },
      "execution_count": 17,
      "outputs": [
        {
          "output_type": "stream",
          "name": "stdout",
          "text": [
            "ESTELA\n",
            "JOÃO\n",
            "ERSIMAR\n",
            "MATEUS\n",
            "EDIANA\n",
            "RITA\n",
            "IARA\n",
            "ANA CLARA\n",
            "DANIEL\n",
            "EMANUELLE\n"
          ]
        }
      ]
    },
    {
      "cell_type": "markdown",
      "source": [
        "###Questão 4\n",
        "\n",
        "Crie uma função que recebe uma frase e retorna uma lista com cada palavra sendo um elemento dessa lista. Utilize o método adequado. Crie um teste e imprima o resultado na tela."
      ],
      "metadata": {
        "id": "8LNVxN-DvqpU"
      }
    },
    {
      "cell_type": "code",
      "source": [
        "# Questao 4\n",
        "frase=str(input(\"Digite uma frase\"))\n",
        "lista_frase=frase.split()# nova variavel que cria uma lista das palavras na frase escrita pelo usúario\n",
        "print(lista_frase)"
      ],
      "metadata": {
        "id": "lXTKOd3pvrmT",
        "colab": {
          "base_uri": "https://localhost:8080/"
        },
        "outputId": "21a82b96-bafc-4648-f241-eb8747a32eda"
      },
      "execution_count": 21,
      "outputs": [
        {
          "output_type": "stream",
          "name": "stdout",
          "text": [
            "Digite uma fraseoi me chamo estela\n",
            "['oi', 'me', 'chamo', 'estela']\n"
          ]
        }
      ]
    }
  ]
}